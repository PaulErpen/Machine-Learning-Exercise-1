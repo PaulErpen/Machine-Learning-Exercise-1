{
  "nbformat": 4,
  "nbformat_minor": 0,
  "metadata": {
    "colab": {
      "name": "Group24_Exercise1.ipynb",
      "provenance": [],
      "collapsed_sections": [],
      "toc_visible": true,
      "include_colab_link": true
    },
    "kernelspec": {
      "display_name": "Python 3",
      "name": "python3"
    },
    "language_info": {
      "name": "python"
    }
  },
  "cells": [
    {
      "cell_type": "markdown",
      "metadata": {
        "id": "view-in-github",
        "colab_type": "text"
      },
      "source": [
        "<a href=\"https://colab.research.google.com/github/PaulErpen/Machine-Learning-Exercise-1/blob/main/Group24_Exercise1.ipynb\" target=\"_parent\"><img src=\"https://colab.research.google.com/assets/colab-badge.svg\" alt=\"Open In Colab\"/></a>"
      ]
    },
    {
      "cell_type": "markdown",
      "metadata": {
        "id": "808RAINW3Sa7"
      },
      "source": [
        "# Machine Learning: Exercise 1\n",
        "Group 24: Jasmin Wolff (12114335), Mihai Truta (12122518), Paul Erpenstein (12107369)"
      ]
    },
    {
      "cell_type": "code",
      "metadata": {
        "colab": {
          "base_uri": "https://localhost:8080/"
        },
        "id": "kZn0Ch8f685c",
        "outputId": "2d62e619-8fd7-463a-cf7c-dffb24a46315"
      },
      "source": [
        "import multiprocessing\n",
        "import pandas\n",
        "import numpy\n",
        "import time\n",
        "from sklearn import metrics\n",
        "from yellowbrick.classifier import ConfusionMatrix\n",
        "from matplotlib import pyplot as plt\n",
        "from google.colab import drive\n",
        "drive.mount(\"/content/gdrive\")"
      ],
      "execution_count": 1,
      "outputs": [
        {
          "output_type": "stream",
          "name": "stderr",
          "text": [
            "/usr/local/lib/python3.7/dist-packages/sklearn/utils/deprecation.py:144: FutureWarning: The sklearn.metrics.classification module is  deprecated in version 0.22 and will be removed in version 0.24. The corresponding classes / functions should instead be imported from sklearn.metrics. Anything that cannot be imported from sklearn.metrics is now part of the private API.\n",
            "  warnings.warn(message, FutureWarning)\n"
          ]
        },
        {
          "output_type": "stream",
          "name": "stdout",
          "text": [
            "Mounted at /content/gdrive\n"
          ]
        }
      ]
    },
    {
      "cell_type": "markdown",
      "metadata": {
        "id": "weRocetvPYW7"
      },
      "source": [
        "## Performance measures\n",
        "\n",
        "We will use different performance measures to compare the performance of the different machine lerning solutions.\n",
        "These performance measures are:\n",
        "* Accurancy\n",
        "* Precision\n",
        "* Recall\n",
        "* Specificity\n",
        "* F1-Score\n",
        "\n",
        "In order to evaluate the machine learning solutions we will also be using confusion matrices as a visualization of the classification results."
      ]
    },
    {
      "cell_type": "markdown",
      "metadata": {
        "id": "JxhN8OFj5U07"
      },
      "source": [
        "# Data set 1: Location \n",
        "\n",
        "First data set from the kaggle competition."
      ]
    },
    {
      "cell_type": "code",
      "metadata": {
        "colab": {
          "base_uri": "https://localhost:8080/"
        },
        "id": "p_5zH6xJ7soV",
        "outputId": "e2b03a8b-f5bc-4ce4-fdd8-07adf0d40585"
      },
      "source": [
        "df_locations = pandas.read_csv(\"/content/gdrive/MyDrive/data/locations.csv\")\n",
        "print(df_locations.head())\n",
        "print(\"This data set has {} observations.\".format(df_locations.shape[0]))"
      ],
      "execution_count": 4,
      "outputs": [
        {
          "output_type": "stream",
          "name": "stdout",
          "text": [
            "   ID  class  1  2  3  4  5  6  7  ...  438  439  440  441  442  443  444  445  446\n",
            "0   0     11  0  0  0  1  1  0  0  ...    0    0    0    1    0    0    0    0    0\n",
            "1   1      3  0  0  0  0  0  0  0  ...    0    0    0    0    0    0    0    0    0\n",
            "2   2      9  0  0  0  0  0  0  0  ...    0    0    0    0    0    0    0    0    0\n",
            "3   3      8  0  0  0  1  0  0  0  ...    0    0    0    1    0    0    0    0    0\n",
            "4   4      3  0  1  0  0  0  0  0  ...    0    0    0    0    0    1    0    0    0\n",
            "\n",
            "[5 rows x 448 columns]\n",
            "This data set has 4000 observations.\n"
          ]
        }
      ]
    },
    {
      "cell_type": "markdown",
      "metadata": {
        "id": "33JoUv-CiCq2"
      },
      "source": [
        "Each of these observations represents a person. There are 446 binary attributes, which denote wether a person has visited a specific location or not. Every person also belongs to a class. The task is to determine a persons class based on the places they visited."
      ]
    },
    {
      "cell_type": "code",
      "metadata": {
        "id": "56Tyge4kQFg1"
      },
      "source": [
        "df_location_performance_measures = pandas.DataFrame(\n",
        "    columns = [\"solution\", \"accurancy\", \"precision\", \"recall\", \"specificity\", \"f1\"])"
      ],
      "execution_count": 5,
      "outputs": []
    },
    {
      "cell_type": "markdown",
      "metadata": {
        "id": "ZMTsYy48-meN"
      },
      "source": [
        "## Exploration & Preprocessing"
      ]
    },
    {
      "cell_type": "code",
      "metadata": {
        "colab": {
          "base_uri": "https://localhost:8080/"
        },
        "id": "7EhA5V7wj69j",
        "outputId": "64fa6938-f9d4-4884-9b06-6e7338f85077"
      },
      "source": [
        "df_locations.isnull().sum().sum()"
      ],
      "execution_count": 6,
      "outputs": [
        {
          "output_type": "execute_result",
          "data": {
            "text/plain": [
              "0"
            ]
          },
          "metadata": {},
          "execution_count": 6
        }
      ]
    },
    {
      "cell_type": "markdown",
      "metadata": {
        "id": "QvT0ZmeOkVWE"
      },
      "source": [
        "There are no missing values in this data set and therefore no preprocessing needed."
      ]
    },
    {
      "cell_type": "code",
      "metadata": {
        "colab": {
          "base_uri": "https://localhost:8080/"
        },
        "id": "gNDeXKxiJtmq",
        "outputId": "fed4235e-7b15-449c-82b1-928c2eb17caf"
      },
      "source": [
        "print(\"There are {} unique classes a person can belong to.\".format(len(df_locations[\"class\"].unique())))"
      ],
      "execution_count": 7,
      "outputs": [
        {
          "output_type": "stream",
          "name": "stdout",
          "text": [
            "There are 30 unique classes a person can belong to.\n"
          ]
        }
      ]
    },
    {
      "cell_type": "code",
      "metadata": {
        "colab": {
          "base_uri": "https://localhost:8080/",
          "height": 294
        },
        "id": "mNbl8MHhlPBD",
        "outputId": "f65e5cf7-77c7-49ef-8ec0-f23b5b98961a"
      },
      "source": [
        "places_visited = df_locations.loc[:, '1':'446'].sum(axis=1) \n",
        "places_visited_distribution = places_visited.groupby(places_visited).count()\n",
        "df_places_visited = pandas.DataFrame(data = {\"nplaces\" : places_visited_distribution.index, \"countpeople\": places_visited_distribution})\n",
        "plt.bar(df_places_visited[\"nplaces\"], df_places_visited[\"countpeople\"])\n",
        "plt.title(\"Distribution of places visited per person\")\n",
        "plt.ylabel(\"Amount of people\")\n",
        "plt.xlabel(\"Places visited\")\n",
        "plt.show()"
      ],
      "execution_count": 8,
      "outputs": [
        {
          "output_type": "display_data",
          "data": {
            "image/png": "[encoded data removed]",
            "text/plain": [
              "<Figure size 432x288 with 1 Axes>"
            ]
          },
          "metadata": {
            "needs_background": "light"
          }
        }
      ]
    },
    {
      "cell_type": "markdown",
      "metadata": {
        "id": "EwxEpYZL9kyy"
      },
      "source": [
        "A thing also worth considering is the amount of different places a person has visited. This might be a very predictive variable. This plot shows the amount of people grouped by how many places they have visited. There is a clear normal distribution, indicating that this measurement has a structure to it that might have predictive qualities."
      ]
    },
    {
      "cell_type": "code",
      "metadata": {
        "id": "Jpwi2q6lBJnD"
      },
      "source": [
        "#df_locations[\"n_places_visited\"] = df_locations.loc[:, '1':'446'].sum(axis=1) "
      ],
      "execution_count": null,
      "outputs": []
    },
    {
      "cell_type": "markdown",
      "metadata": {
        "id": "qUz-y6yujr-g"
      },
      "source": [
        "Turns out this decreases prediction performance."
      ]
    },
    {
      "cell_type": "markdown",
      "metadata": {
        "id": "gkZQt0dBGIb2"
      },
      "source": [
        "### Train and test split\n",
        "\n"
      ]
    },
    {
      "cell_type": "code",
      "metadata": {
        "colab": {
          "base_uri": "https://localhost:8080/",
          "height": 460
        },
        "id": "B4oVQ0LTGNod",
        "outputId": "69d9c6c5-a18c-4a00-ff84-783d39c19390"
      },
      "source": [
        "from sklearn.model_selection import train_test_split\n",
        "\n",
        "y = df_locations.copy(deep=\"true\")[\"class\"]\n",
        "X = df_locations.copy(deep=\"true\").drop('class', axis=1).drop('ID', axis=1)\n",
        "\n",
        "X_train, X_test, y_train, y_test = train_test_split(X, y, test_size=0.2, random_state=123)\n",
        "print(\"The size of the training split is {} and the size of the test split is {}.\".format(X_train.shape[0], X_test.shape[0]))\n",
        "\n",
        "display(X_train)"
      ],
      "execution_count": 9,
      "outputs": [
        {
          "output_type": "stream",
          "name": "stdout",
          "text": [
            "The size of the training split is 3200 and the size of the test split is 800.\n"
          ]
        },
        {
          "output_type": "display_data",
          "data": {
            "text/html": [
              "<div>\n",
              "<style scoped>\n",
              "    .dataframe tbody tr th:only-of-type {\n",
              "        vertical-align: middle;\n",
              "    }\n",
              "\n",
              "    .dataframe tbody tr th {\n",
              "        vertical-align: top;\n",
              "    }\n",
              "\n",
              "    .dataframe thead th {\n",
              "        text-align: right;\n",
              "    }\n",
              "</style>\n",
              "<table border=\"1\" class=\"dataframe\">\n",
              "  <thead>\n",
              "    <tr style=\"text-align: right;\">\n",
              "      <th></th>\n",
              "      <th>1</th>\n",
              "      <th>2</th>\n",
              "      <th>3</th>\n",
              "      <th>4</th>\n",
              "      <th>5</th>\n",
              "      <th>6</th>\n",
              "      <th>7</th>\n",
              "      <th>8</th>\n",
              "      <th>9</th>\n",
              "      <th>10</th>\n",
              "      <th>11</th>\n",
              "      <th>12</th>\n",
              "      <th>13</th>\n",
              "      <th>14</th>\n",
              "      <th>15</th>\n",
              "      <th>16</th>\n",
              "      <th>17</th>\n",
              "      <th>18</th>\n",
              "      <th>19</th>\n",
              "      <th>20</th>\n",
              "      <th>21</th>\n",
              "      <th>22</th>\n",
              "      <th>23</th>\n",
              "      <th>24</th>\n",
              "      <th>25</th>\n",
              "      <th>26</th>\n",
              "      <th>27</th>\n",
              "      <th>28</th>\n",
              "      <th>29</th>\n",
              "      <th>30</th>\n",
              "      <th>31</th>\n",
              "      <th>32</th>\n",
              "      <th>33</th>\n",
              "      <th>34</th>\n",
              "      <th>35</th>\n",
              "      <th>36</th>\n",
              "      <th>37</th>\n",
              "      <th>38</th>\n",
              "      <th>39</th>\n",
              "      <th>40</th>\n",
              "      <th>...</th>\n",
              "      <th>407</th>\n",
              "      <th>408</th>\n",
              "      <th>409</th>\n",
              "      <th>410</th>\n",
              "      <th>411</th>\n",
              "      <th>412</th>\n",
              "      <th>413</th>\n",
              "      <th>414</th>\n",
              "      <th>415</th>\n",
              "      <th>416</th>\n",
              "      <th>417</th>\n",
              "      <th>418</th>\n",
              "      <th>419</th>\n",
              "      <th>420</th>\n",
              "      <th>421</th>\n",
              "      <th>422</th>\n",
              "      <th>423</th>\n",
              "      <th>424</th>\n",
              "      <th>425</th>\n",
              "      <th>426</th>\n",
              "      <th>427</th>\n",
              "      <th>428</th>\n",
              "      <th>429</th>\n",
              "      <th>430</th>\n",
              "      <th>431</th>\n",
              "      <th>432</th>\n",
              "      <th>433</th>\n",
              "      <th>434</th>\n",
              "      <th>435</th>\n",
              "      <th>436</th>\n",
              "      <th>437</th>\n",
              "      <th>438</th>\n",
              "      <th>439</th>\n",
              "      <th>440</th>\n",
              "      <th>441</th>\n",
              "      <th>442</th>\n",
              "      <th>443</th>\n",
              "      <th>444</th>\n",
              "      <th>445</th>\n",
              "      <th>446</th>\n",
              "    </tr>\n",
              "  </thead>\n",
              "  <tbody>\n",
              "    <tr>\n",
              "      <th>1420</th>\n",
              "      <td>1</td>\n",
              "      <td>0</td>\n",
              "      <td>0</td>\n",
              "      <td>0</td>\n",
              "      <td>0</td>\n",
              "      <td>0</td>\n",
              "      <td>0</td>\n",
              "      <td>0</td>\n",
              "      <td>0</td>\n",
              "      <td>0</td>\n",
              "      <td>0</td>\n",
              "      <td>0</td>\n",
              "      <td>0</td>\n",
              "      <td>0</td>\n",
              "      <td>0</td>\n",
              "      <td>0</td>\n",
              "      <td>0</td>\n",
              "      <td>0</td>\n",
              "      <td>0</td>\n",
              "      <td>0</td>\n",
              "      <td>0</td>\n",
              "      <td>0</td>\n",
              "      <td>1</td>\n",
              "      <td>0</td>\n",
              "      <td>0</td>\n",
              "      <td>0</td>\n",
              "      <td>0</td>\n",
              "      <td>0</td>\n",
              "      <td>0</td>\n",
              "      <td>0</td>\n",
              "      <td>0</td>\n",
              "      <td>0</td>\n",
              "      <td>0</td>\n",
              "      <td>0</td>\n",
              "      <td>0</td>\n",
              "      <td>1</td>\n",
              "      <td>0</td>\n",
              "      <td>0</td>\n",
              "      <td>0</td>\n",
              "      <td>0</td>\n",
              "      <td>...</td>\n",
              "      <td>0</td>\n",
              "      <td>0</td>\n",
              "      <td>0</td>\n",
              "      <td>0</td>\n",
              "      <td>0</td>\n",
              "      <td>0</td>\n",
              "      <td>0</td>\n",
              "      <td>0</td>\n",
              "      <td>0</td>\n",
              "      <td>0</td>\n",
              "      <td>0</td>\n",
              "      <td>0</td>\n",
              "      <td>0</td>\n",
              "      <td>0</td>\n",
              "      <td>0</td>\n",
              "      <td>0</td>\n",
              "      <td>0</td>\n",
              "      <td>0</td>\n",
              "      <td>0</td>\n",
              "      <td>0</td>\n",
              "      <td>1</td>\n",
              "      <td>0</td>\n",
              "      <td>0</td>\n",
              "      <td>0</td>\n",
              "      <td>0</td>\n",
              "      <td>0</td>\n",
              "      <td>0</td>\n",
              "      <td>0</td>\n",
              "      <td>0</td>\n",
              "      <td>0</td>\n",
              "      <td>0</td>\n",
              "      <td>0</td>\n",
              "      <td>0</td>\n",
              "      <td>0</td>\n",
              "      <td>0</td>\n",
              "      <td>0</td>\n",
              "      <td>0</td>\n",
              "      <td>0</td>\n",
              "      <td>1</td>\n",
              "      <td>0</td>\n",
              "    </tr>\n",
              "    <tr>\n",
              "      <th>1638</th>\n",
              "      <td>0</td>\n",
              "      <td>0</td>\n",
              "      <td>0</td>\n",
              "      <td>1</td>\n",
              "      <td>0</td>\n",
              "      <td>0</td>\n",
              "      <td>0</td>\n",
              "      <td>0</td>\n",
              "      <td>0</td>\n",
              "      <td>0</td>\n",
              "      <td>0</td>\n",
              "      <td>0</td>\n",
              "      <td>0</td>\n",
              "      <td>0</td>\n",
              "      <td>0</td>\n",
              "      <td>0</td>\n",
              "      <td>0</td>\n",
              "      <td>0</td>\n",
              "      <td>0</td>\n",
              "      <td>0</td>\n",
              "      <td>0</td>\n",
              "      <td>0</td>\n",
              "      <td>1</td>\n",
              "      <td>0</td>\n",
              "      <td>0</td>\n",
              "      <td>0</td>\n",
              "      <td>0</td>\n",
              "      <td>1</td>\n",
              "      <td>0</td>\n",
              "      <td>0</td>\n",
              "      <td>0</td>\n",
              "      <td>0</td>\n",
              "      <td>0</td>\n",
              "      <td>0</td>\n",
              "      <td>0</td>\n",
              "      <td>0</td>\n",
              "      <td>0</td>\n",
              "      <td>0</td>\n",
              "      <td>0</td>\n",
              "      <td>0</td>\n",
              "      <td>...</td>\n",
              "      <td>0</td>\n",
              "      <td>0</td>\n",
              "      <td>0</td>\n",
              "      <td>0</td>\n",
              "      <td>0</td>\n",
              "      <td>0</td>\n",
              "      <td>0</td>\n",
              "      <td>0</td>\n",
              "      <td>0</td>\n",
              "      <td>0</td>\n",
              "      <td>0</td>\n",
              "      <td>1</td>\n",
              "      <td>0</td>\n",
              "      <td>0</td>\n",
              "      <td>0</td>\n",
              "      <td>0</td>\n",
              "      <td>0</td>\n",
              "      <td>1</td>\n",
              "      <td>0</td>\n",
              "      <td>0</td>\n",
              "      <td>0</td>\n",
              "      <td>0</td>\n",
              "      <td>0</td>\n",
              "      <td>0</td>\n",
              "      <td>0</td>\n",
              "      <td>0</td>\n",
              "      <td>0</td>\n",
              "      <td>0</td>\n",
              "      <td>0</td>\n",
              "      <td>0</td>\n",
              "      <td>0</td>\n",
              "      <td>0</td>\n",
              "      <td>0</td>\n",
              "      <td>0</td>\n",
              "      <td>0</td>\n",
              "      <td>0</td>\n",
              "      <td>0</td>\n",
              "      <td>0</td>\n",
              "      <td>0</td>\n",
              "      <td>0</td>\n",
              "    </tr>\n",
              "    <tr>\n",
              "      <th>616</th>\n",
              "      <td>0</td>\n",
              "      <td>0</td>\n",
              "      <td>0</td>\n",
              "      <td>1</td>\n",
              "      <td>0</td>\n",
              "      <td>0</td>\n",
              "      <td>0</td>\n",
              "      <td>0</td>\n",
              "      <td>0</td>\n",
              "      <td>1</td>\n",
              "      <td>0</td>\n",
              "      <td>0</td>\n",
              "      <td>0</td>\n",
              "      <td>1</td>\n",
              "      <td>0</td>\n",
              "      <td>0</td>\n",
              "      <td>1</td>\n",
              "      <td>0</td>\n",
              "      <td>0</td>\n",
              "      <td>0</td>\n",
              "      <td>0</td>\n",
              "      <td>1</td>\n",
              "      <td>1</td>\n",
              "      <td>1</td>\n",
              "      <td>1</td>\n",
              "      <td>0</td>\n",
              "      <td>0</td>\n",
              "      <td>0</td>\n",
              "      <td>1</td>\n",
              "      <td>0</td>\n",
              "      <td>0</td>\n",
              "      <td>1</td>\n",
              "      <td>1</td>\n",
              "      <td>0</td>\n",
              "      <td>1</td>\n",
              "      <td>1</td>\n",
              "      <td>0</td>\n",
              "      <td>0</td>\n",
              "      <td>1</td>\n",
              "      <td>0</td>\n",
              "      <td>...</td>\n",
              "      <td>1</td>\n",
              "      <td>0</td>\n",
              "      <td>0</td>\n",
              "      <td>0</td>\n",
              "      <td>1</td>\n",
              "      <td>0</td>\n",
              "      <td>0</td>\n",
              "      <td>1</td>\n",
              "      <td>0</td>\n",
              "      <td>0</td>\n",
              "      <td>0</td>\n",
              "      <td>0</td>\n",
              "      <td>0</td>\n",
              "      <td>0</td>\n",
              "      <td>0</td>\n",
              "      <td>1</td>\n",
              "      <td>0</td>\n",
              "      <td>0</td>\n",
              "      <td>1</td>\n",
              "      <td>0</td>\n",
              "      <td>0</td>\n",
              "      <td>0</td>\n",
              "      <td>0</td>\n",
              "      <td>1</td>\n",
              "      <td>0</td>\n",
              "      <td>0</td>\n",
              "      <td>0</td>\n",
              "      <td>0</td>\n",
              "      <td>0</td>\n",
              "      <td>0</td>\n",
              "      <td>0</td>\n",
              "      <td>0</td>\n",
              "      <td>0</td>\n",
              "      <td>0</td>\n",
              "      <td>0</td>\n",
              "      <td>0</td>\n",
              "      <td>1</td>\n",
              "      <td>1</td>\n",
              "      <td>0</td>\n",
              "      <td>0</td>\n",
              "    </tr>\n",
              "    <tr>\n",
              "      <th>184</th>\n",
              "      <td>0</td>\n",
              "      <td>0</td>\n",
              "      <td>0</td>\n",
              "      <td>1</td>\n",
              "      <td>0</td>\n",
              "      <td>0</td>\n",
              "      <td>0</td>\n",
              "      <td>0</td>\n",
              "      <td>0</td>\n",
              "      <td>0</td>\n",
              "      <td>0</td>\n",
              "      <td>0</td>\n",
              "      <td>1</td>\n",
              "      <td>0</td>\n",
              "      <td>0</td>\n",
              "      <td>0</td>\n",
              "      <td>0</td>\n",
              "      <td>0</td>\n",
              "      <td>0</td>\n",
              "      <td>0</td>\n",
              "      <td>0</td>\n",
              "      <td>0</td>\n",
              "      <td>0</td>\n",
              "      <td>0</td>\n",
              "      <td>0</td>\n",
              "      <td>0</td>\n",
              "      <td>0</td>\n",
              "      <td>0</td>\n",
              "      <td>0</td>\n",
              "      <td>0</td>\n",
              "      <td>0</td>\n",
              "      <td>1</td>\n",
              "      <td>0</td>\n",
              "      <td>0</td>\n",
              "      <td>1</td>\n",
              "      <td>0</td>\n",
              "      <td>0</td>\n",
              "      <td>0</td>\n",
              "      <td>0</td>\n",
              "      <td>0</td>\n",
              "      <td>...</td>\n",
              "      <td>0</td>\n",
              "      <td>0</td>\n",
              "      <td>0</td>\n",
              "      <td>1</td>\n",
              "      <td>0</td>\n",
              "      <td>0</td>\n",
              "      <td>0</td>\n",
              "      <td>0</td>\n",
              "      <td>0</td>\n",
              "      <td>0</td>\n",
              "      <td>0</td>\n",
              "      <td>0</td>\n",
              "      <td>0</td>\n",
              "      <td>0</td>\n",
              "      <td>0</td>\n",
              "      <td>1</td>\n",
              "      <td>1</td>\n",
              "      <td>1</td>\n",
              "      <td>0</td>\n",
              "      <td>0</td>\n",
              "      <td>1</td>\n",
              "      <td>0</td>\n",
              "      <td>0</td>\n",
              "      <td>0</td>\n",
              "      <td>0</td>\n",
              "      <td>0</td>\n",
              "      <td>0</td>\n",
              "      <td>0</td>\n",
              "      <td>0</td>\n",
              "      <td>0</td>\n",
              "      <td>0</td>\n",
              "      <td>0</td>\n",
              "      <td>0</td>\n",
              "      <td>0</td>\n",
              "      <td>0</td>\n",
              "      <td>0</td>\n",
              "      <td>1</td>\n",
              "      <td>0</td>\n",
              "      <td>0</td>\n",
              "      <td>0</td>\n",
              "    </tr>\n",
              "    <tr>\n",
              "      <th>2075</th>\n",
              "      <td>0</td>\n",
              "      <td>0</td>\n",
              "      <td>0</td>\n",
              "      <td>0</td>\n",
              "      <td>0</td>\n",
              "      <td>0</td>\n",
              "      <td>0</td>\n",
              "      <td>0</td>\n",
              "      <td>1</td>\n",
              "      <td>0</td>\n",
              "      <td>0</td>\n",
              "      <td>0</td>\n",
              "      <td>0</td>\n",
              "      <td>1</td>\n",
              "      <td>0</td>\n",
              "      <td>0</td>\n",
              "      <td>0</td>\n",
              "      <td>0</td>\n",
              "      <td>1</td>\n",
              "      <td>0</td>\n",
              "      <td>0</td>\n",
              "      <td>0</td>\n",
              "      <td>1</td>\n",
              "      <td>0</td>\n",
              "      <td>0</td>\n",
              "      <td>0</td>\n",
              "      <td>0</td>\n",
              "      <td>0</td>\n",
              "      <td>0</td>\n",
              "      <td>0</td>\n",
              "      <td>0</td>\n",
              "      <td>0</td>\n",
              "      <td>1</td>\n",
              "      <td>0</td>\n",
              "      <td>0</td>\n",
              "      <td>1</td>\n",
              "      <td>0</td>\n",
              "      <td>0</td>\n",
              "      <td>1</td>\n",
              "      <td>0</td>\n",
              "      <td>...</td>\n",
              "      <td>0</td>\n",
              "      <td>0</td>\n",
              "      <td>0</td>\n",
              "      <td>1</td>\n",
              "      <td>0</td>\n",
              "      <td>0</td>\n",
              "      <td>0</td>\n",
              "      <td>0</td>\n",
              "      <td>0</td>\n",
              "      <td>0</td>\n",
              "      <td>0</td>\n",
              "      <td>0</td>\n",
              "      <td>0</td>\n",
              "      <td>0</td>\n",
              "      <td>0</td>\n",
              "      <td>0</td>\n",
              "      <td>1</td>\n",
              "      <td>1</td>\n",
              "      <td>0</td>\n",
              "      <td>0</td>\n",
              "      <td>1</td>\n",
              "      <td>1</td>\n",
              "      <td>0</td>\n",
              "      <td>0</td>\n",
              "      <td>0</td>\n",
              "      <td>0</td>\n",
              "      <td>0</td>\n",
              "      <td>0</td>\n",
              "      <td>0</td>\n",
              "      <td>0</td>\n",
              "      <td>0</td>\n",
              "      <td>0</td>\n",
              "      <td>0</td>\n",
              "      <td>0</td>\n",
              "      <td>0</td>\n",
              "      <td>0</td>\n",
              "      <td>0</td>\n",
              "      <td>0</td>\n",
              "      <td>0</td>\n",
              "      <td>0</td>\n",
              "    </tr>\n",
              "    <tr>\n",
              "      <th>...</th>\n",
              "      <td>...</td>\n",
              "      <td>...</td>\n",
              "      <td>...</td>\n",
              "      <td>...</td>\n",
              "      <td>...</td>\n",
              "      <td>...</td>\n",
              "      <td>...</td>\n",
              "      <td>...</td>\n",
              "      <td>...</td>\n",
              "      <td>...</td>\n",
              "      <td>...</td>\n",
              "      <td>...</td>\n",
              "      <td>...</td>\n",
              "      <td>...</td>\n",
              "      <td>...</td>\n",
              "      <td>...</td>\n",
              "      <td>...</td>\n",
              "      <td>...</td>\n",
              "      <td>...</td>\n",
              "      <td>...</td>\n",
              "      <td>...</td>\n",
              "      <td>...</td>\n",
              "      <td>...</td>\n",
              "      <td>...</td>\n",
              "      <td>...</td>\n",
              "      <td>...</td>\n",
              "      <td>...</td>\n",
              "      <td>...</td>\n",
              "      <td>...</td>\n",
              "      <td>...</td>\n",
              "      <td>...</td>\n",
              "      <td>...</td>\n",
              "      <td>...</td>\n",
              "      <td>...</td>\n",
              "      <td>...</td>\n",
              "      <td>...</td>\n",
              "      <td>...</td>\n",
              "      <td>...</td>\n",
              "      <td>...</td>\n",
              "      <td>...</td>\n",
              "      <td>...</td>\n",
              "      <td>...</td>\n",
              "      <td>...</td>\n",
              "      <td>...</td>\n",
              "      <td>...</td>\n",
              "      <td>...</td>\n",
              "      <td>...</td>\n",
              "      <td>...</td>\n",
              "      <td>...</td>\n",
              "      <td>...</td>\n",
              "      <td>...</td>\n",
              "      <td>...</td>\n",
              "      <td>...</td>\n",
              "      <td>...</td>\n",
              "      <td>...</td>\n",
              "      <td>...</td>\n",
              "      <td>...</td>\n",
              "      <td>...</td>\n",
              "      <td>...</td>\n",
              "      <td>...</td>\n",
              "      <td>...</td>\n",
              "      <td>...</td>\n",
              "      <td>...</td>\n",
              "      <td>...</td>\n",
              "      <td>...</td>\n",
              "      <td>...</td>\n",
              "      <td>...</td>\n",
              "      <td>...</td>\n",
              "      <td>...</td>\n",
              "      <td>...</td>\n",
              "      <td>...</td>\n",
              "      <td>...</td>\n",
              "      <td>...</td>\n",
              "      <td>...</td>\n",
              "      <td>...</td>\n",
              "      <td>...</td>\n",
              "      <td>...</td>\n",
              "      <td>...</td>\n",
              "      <td>...</td>\n",
              "      <td>...</td>\n",
              "      <td>...</td>\n",
              "    </tr>\n",
              "    <tr>\n",
              "      <th>1122</th>\n",
              "      <td>0</td>\n",
              "      <td>0</td>\n",
              "      <td>0</td>\n",
              "      <td>0</td>\n",
              "      <td>0</td>\n",
              "      <td>0</td>\n",
              "      <td>0</td>\n",
              "      <td>0</td>\n",
              "      <td>0</td>\n",
              "      <td>0</td>\n",
              "      <td>0</td>\n",
              "      <td>0</td>\n",
              "      <td>0</td>\n",
              "      <td>0</td>\n",
              "      <td>0</td>\n",
              "      <td>0</td>\n",
              "      <td>0</td>\n",
              "      <td>1</td>\n",
              "      <td>0</td>\n",
              "      <td>0</td>\n",
              "      <td>0</td>\n",
              "      <td>0</td>\n",
              "      <td>0</td>\n",
              "      <td>0</td>\n",
              "      <td>0</td>\n",
              "      <td>0</td>\n",
              "      <td>0</td>\n",
              "      <td>0</td>\n",
              "      <td>0</td>\n",
              "      <td>0</td>\n",
              "      <td>0</td>\n",
              "      <td>0</td>\n",
              "      <td>0</td>\n",
              "      <td>0</td>\n",
              "      <td>1</td>\n",
              "      <td>1</td>\n",
              "      <td>1</td>\n",
              "      <td>0</td>\n",
              "      <td>0</td>\n",
              "      <td>0</td>\n",
              "      <td>...</td>\n",
              "      <td>0</td>\n",
              "      <td>0</td>\n",
              "      <td>0</td>\n",
              "      <td>0</td>\n",
              "      <td>0</td>\n",
              "      <td>0</td>\n",
              "      <td>0</td>\n",
              "      <td>0</td>\n",
              "      <td>0</td>\n",
              "      <td>0</td>\n",
              "      <td>0</td>\n",
              "      <td>0</td>\n",
              "      <td>0</td>\n",
              "      <td>0</td>\n",
              "      <td>0</td>\n",
              "      <td>0</td>\n",
              "      <td>0</td>\n",
              "      <td>0</td>\n",
              "      <td>0</td>\n",
              "      <td>0</td>\n",
              "      <td>0</td>\n",
              "      <td>0</td>\n",
              "      <td>1</td>\n",
              "      <td>0</td>\n",
              "      <td>0</td>\n",
              "      <td>0</td>\n",
              "      <td>0</td>\n",
              "      <td>0</td>\n",
              "      <td>0</td>\n",
              "      <td>0</td>\n",
              "      <td>0</td>\n",
              "      <td>0</td>\n",
              "      <td>0</td>\n",
              "      <td>0</td>\n",
              "      <td>1</td>\n",
              "      <td>0</td>\n",
              "      <td>1</td>\n",
              "      <td>0</td>\n",
              "      <td>0</td>\n",
              "      <td>0</td>\n",
              "    </tr>\n",
              "    <tr>\n",
              "      <th>1346</th>\n",
              "      <td>1</td>\n",
              "      <td>1</td>\n",
              "      <td>0</td>\n",
              "      <td>1</td>\n",
              "      <td>1</td>\n",
              "      <td>0</td>\n",
              "      <td>0</td>\n",
              "      <td>0</td>\n",
              "      <td>0</td>\n",
              "      <td>0</td>\n",
              "      <td>0</td>\n",
              "      <td>0</td>\n",
              "      <td>0</td>\n",
              "      <td>1</td>\n",
              "      <td>0</td>\n",
              "      <td>0</td>\n",
              "      <td>0</td>\n",
              "      <td>0</td>\n",
              "      <td>0</td>\n",
              "      <td>0</td>\n",
              "      <td>0</td>\n",
              "      <td>0</td>\n",
              "      <td>0</td>\n",
              "      <td>0</td>\n",
              "      <td>0</td>\n",
              "      <td>0</td>\n",
              "      <td>0</td>\n",
              "      <td>0</td>\n",
              "      <td>0</td>\n",
              "      <td>1</td>\n",
              "      <td>0</td>\n",
              "      <td>0</td>\n",
              "      <td>0</td>\n",
              "      <td>0</td>\n",
              "      <td>0</td>\n",
              "      <td>0</td>\n",
              "      <td>0</td>\n",
              "      <td>0</td>\n",
              "      <td>0</td>\n",
              "      <td>1</td>\n",
              "      <td>...</td>\n",
              "      <td>0</td>\n",
              "      <td>0</td>\n",
              "      <td>0</td>\n",
              "      <td>0</td>\n",
              "      <td>0</td>\n",
              "      <td>0</td>\n",
              "      <td>0</td>\n",
              "      <td>0</td>\n",
              "      <td>0</td>\n",
              "      <td>0</td>\n",
              "      <td>0</td>\n",
              "      <td>0</td>\n",
              "      <td>0</td>\n",
              "      <td>0</td>\n",
              "      <td>0</td>\n",
              "      <td>0</td>\n",
              "      <td>1</td>\n",
              "      <td>1</td>\n",
              "      <td>0</td>\n",
              "      <td>0</td>\n",
              "      <td>0</td>\n",
              "      <td>1</td>\n",
              "      <td>0</td>\n",
              "      <td>0</td>\n",
              "      <td>0</td>\n",
              "      <td>0</td>\n",
              "      <td>0</td>\n",
              "      <td>0</td>\n",
              "      <td>0</td>\n",
              "      <td>0</td>\n",
              "      <td>0</td>\n",
              "      <td>0</td>\n",
              "      <td>0</td>\n",
              "      <td>0</td>\n",
              "      <td>0</td>\n",
              "      <td>0</td>\n",
              "      <td>0</td>\n",
              "      <td>0</td>\n",
              "      <td>0</td>\n",
              "      <td>0</td>\n",
              "    </tr>\n",
              "    <tr>\n",
              "      <th>3454</th>\n",
              "      <td>0</td>\n",
              "      <td>0</td>\n",
              "      <td>0</td>\n",
              "      <td>0</td>\n",
              "      <td>0</td>\n",
              "      <td>0</td>\n",
              "      <td>0</td>\n",
              "      <td>1</td>\n",
              "      <td>0</td>\n",
              "      <td>0</td>\n",
              "      <td>0</td>\n",
              "      <td>0</td>\n",
              "      <td>0</td>\n",
              "      <td>1</td>\n",
              "      <td>0</td>\n",
              "      <td>0</td>\n",
              "      <td>0</td>\n",
              "      <td>0</td>\n",
              "      <td>0</td>\n",
              "      <td>0</td>\n",
              "      <td>0</td>\n",
              "      <td>0</td>\n",
              "      <td>0</td>\n",
              "      <td>0</td>\n",
              "      <td>0</td>\n",
              "      <td>0</td>\n",
              "      <td>0</td>\n",
              "      <td>0</td>\n",
              "      <td>0</td>\n",
              "      <td>0</td>\n",
              "      <td>0</td>\n",
              "      <td>1</td>\n",
              "      <td>0</td>\n",
              "      <td>1</td>\n",
              "      <td>0</td>\n",
              "      <td>0</td>\n",
              "      <td>0</td>\n",
              "      <td>0</td>\n",
              "      <td>0</td>\n",
              "      <td>0</td>\n",
              "      <td>...</td>\n",
              "      <td>0</td>\n",
              "      <td>0</td>\n",
              "      <td>0</td>\n",
              "      <td>0</td>\n",
              "      <td>0</td>\n",
              "      <td>0</td>\n",
              "      <td>0</td>\n",
              "      <td>0</td>\n",
              "      <td>0</td>\n",
              "      <td>0</td>\n",
              "      <td>0</td>\n",
              "      <td>0</td>\n",
              "      <td>0</td>\n",
              "      <td>0</td>\n",
              "      <td>0</td>\n",
              "      <td>0</td>\n",
              "      <td>1</td>\n",
              "      <td>0</td>\n",
              "      <td>0</td>\n",
              "      <td>0</td>\n",
              "      <td>0</td>\n",
              "      <td>0</td>\n",
              "      <td>0</td>\n",
              "      <td>0</td>\n",
              "      <td>0</td>\n",
              "      <td>0</td>\n",
              "      <td>0</td>\n",
              "      <td>1</td>\n",
              "      <td>0</td>\n",
              "      <td>0</td>\n",
              "      <td>1</td>\n",
              "      <td>0</td>\n",
              "      <td>0</td>\n",
              "      <td>0</td>\n",
              "      <td>0</td>\n",
              "      <td>0</td>\n",
              "      <td>0</td>\n",
              "      <td>0</td>\n",
              "      <td>0</td>\n",
              "      <td>0</td>\n",
              "    </tr>\n",
              "    <tr>\n",
              "      <th>3437</th>\n",
              "      <td>0</td>\n",
              "      <td>0</td>\n",
              "      <td>0</td>\n",
              "      <td>1</td>\n",
              "      <td>0</td>\n",
              "      <td>0</td>\n",
              "      <td>0</td>\n",
              "      <td>0</td>\n",
              "      <td>0</td>\n",
              "      <td>0</td>\n",
              "      <td>0</td>\n",
              "      <td>0</td>\n",
              "      <td>0</td>\n",
              "      <td>1</td>\n",
              "      <td>0</td>\n",
              "      <td>0</td>\n",
              "      <td>0</td>\n",
              "      <td>0</td>\n",
              "      <td>0</td>\n",
              "      <td>0</td>\n",
              "      <td>0</td>\n",
              "      <td>0</td>\n",
              "      <td>0</td>\n",
              "      <td>0</td>\n",
              "      <td>0</td>\n",
              "      <td>0</td>\n",
              "      <td>0</td>\n",
              "      <td>0</td>\n",
              "      <td>0</td>\n",
              "      <td>0</td>\n",
              "      <td>0</td>\n",
              "      <td>0</td>\n",
              "      <td>0</td>\n",
              "      <td>1</td>\n",
              "      <td>0</td>\n",
              "      <td>0</td>\n",
              "      <td>0</td>\n",
              "      <td>0</td>\n",
              "      <td>0</td>\n",
              "      <td>0</td>\n",
              "      <td>...</td>\n",
              "      <td>0</td>\n",
              "      <td>0</td>\n",
              "      <td>0</td>\n",
              "      <td>0</td>\n",
              "      <td>0</td>\n",
              "      <td>0</td>\n",
              "      <td>0</td>\n",
              "      <td>0</td>\n",
              "      <td>0</td>\n",
              "      <td>0</td>\n",
              "      <td>0</td>\n",
              "      <td>0</td>\n",
              "      <td>0</td>\n",
              "      <td>0</td>\n",
              "      <td>0</td>\n",
              "      <td>0</td>\n",
              "      <td>1</td>\n",
              "      <td>0</td>\n",
              "      <td>0</td>\n",
              "      <td>1</td>\n",
              "      <td>0</td>\n",
              "      <td>0</td>\n",
              "      <td>0</td>\n",
              "      <td>0</td>\n",
              "      <td>0</td>\n",
              "      <td>0</td>\n",
              "      <td>0</td>\n",
              "      <td>0</td>\n",
              "      <td>0</td>\n",
              "      <td>0</td>\n",
              "      <td>1</td>\n",
              "      <td>1</td>\n",
              "      <td>0</td>\n",
              "      <td>0</td>\n",
              "      <td>0</td>\n",
              "      <td>0</td>\n",
              "      <td>0</td>\n",
              "      <td>0</td>\n",
              "      <td>0</td>\n",
              "      <td>0</td>\n",
              "    </tr>\n",
              "    <tr>\n",
              "      <th>3582</th>\n",
              "      <td>0</td>\n",
              "      <td>0</td>\n",
              "      <td>0</td>\n",
              "      <td>0</td>\n",
              "      <td>0</td>\n",
              "      <td>0</td>\n",
              "      <td>0</td>\n",
              "      <td>0</td>\n",
              "      <td>0</td>\n",
              "      <td>0</td>\n",
              "      <td>0</td>\n",
              "      <td>0</td>\n",
              "      <td>0</td>\n",
              "      <td>1</td>\n",
              "      <td>0</td>\n",
              "      <td>0</td>\n",
              "      <td>0</td>\n",
              "      <td>0</td>\n",
              "      <td>0</td>\n",
              "      <td>0</td>\n",
              "      <td>0</td>\n",
              "      <td>0</td>\n",
              "      <td>0</td>\n",
              "      <td>0</td>\n",
              "      <td>0</td>\n",
              "      <td>0</td>\n",
              "      <td>0</td>\n",
              "      <td>0</td>\n",
              "      <td>0</td>\n",
              "      <td>0</td>\n",
              "      <td>0</td>\n",
              "      <td>1</td>\n",
              "      <td>0</td>\n",
              "      <td>0</td>\n",
              "      <td>0</td>\n",
              "      <td>0</td>\n",
              "      <td>0</td>\n",
              "      <td>0</td>\n",
              "      <td>0</td>\n",
              "      <td>0</td>\n",
              "      <td>...</td>\n",
              "      <td>0</td>\n",
              "      <td>0</td>\n",
              "      <td>0</td>\n",
              "      <td>0</td>\n",
              "      <td>0</td>\n",
              "      <td>0</td>\n",
              "      <td>0</td>\n",
              "      <td>0</td>\n",
              "      <td>0</td>\n",
              "      <td>0</td>\n",
              "      <td>0</td>\n",
              "      <td>0</td>\n",
              "      <td>0</td>\n",
              "      <td>0</td>\n",
              "      <td>0</td>\n",
              "      <td>0</td>\n",
              "      <td>0</td>\n",
              "      <td>0</td>\n",
              "      <td>0</td>\n",
              "      <td>0</td>\n",
              "      <td>0</td>\n",
              "      <td>0</td>\n",
              "      <td>0</td>\n",
              "      <td>0</td>\n",
              "      <td>0</td>\n",
              "      <td>0</td>\n",
              "      <td>0</td>\n",
              "      <td>0</td>\n",
              "      <td>0</td>\n",
              "      <td>0</td>\n",
              "      <td>0</td>\n",
              "      <td>0</td>\n",
              "      <td>0</td>\n",
              "      <td>0</td>\n",
              "      <td>0</td>\n",
              "      <td>0</td>\n",
              "      <td>0</td>\n",
              "      <td>0</td>\n",
              "      <td>0</td>\n",
              "      <td>0</td>\n",
              "    </tr>\n",
              "  </tbody>\n",
              "</table>\n",
              "<p>3200 rows × 446 columns</p>\n",
              "</div>"
            ],
            "text/plain": [
              "      1  2  3  4  5  6  7  8  9  ...  438  439  440  441  442  443  444  445  446\n",
              "1420  1  0  0  0  0  0  0  0  0  ...    0    0    0    0    0    0    0    1    0\n",
              "1638  0  0  0  1  0  0  0  0  0  ...    0    0    0    0    0    0    0    0    0\n",
              "616   0  0  0  1  0  0  0  0  0  ...    0    0    0    0    0    1    1    0    0\n",
              "184   0  0  0  1  0  0  0  0  0  ...    0    0    0    0    0    1    0    0    0\n",
              "2075  0  0  0  0  0  0  0  0  1  ...    0    0    0    0    0    0    0    0    0\n",
              "...  .. .. .. .. .. .. .. .. ..  ...  ...  ...  ...  ...  ...  ...  ...  ...  ...\n",
              "1122  0  0  0  0  0  0  0  0  0  ...    0    0    0    1    0    1    0    0    0\n",
              "1346  1  1  0  1  1  0  0  0  0  ...    0    0    0    0    0    0    0    0    0\n",
              "3454  0  0  0  0  0  0  0  1  0  ...    0    0    0    0    0    0    0    0    0\n",
              "3437  0  0  0  1  0  0  0  0  0  ...    1    0    0    0    0    0    0    0    0\n",
              "3582  0  0  0  0  0  0  0  0  0  ...    0    0    0    0    0    0    0    0    0\n",
              "\n",
              "[3200 rows x 446 columns]"
            ]
          },
          "metadata": {}
        }
      ]
    },
    {
      "cell_type": "markdown",
      "metadata": {
        "id": "I132oI6fLY0M"
      },
      "source": [
        "### Scaling"
      ]
    },
    {
      "cell_type": "code",
      "metadata": {
        "colab": {
          "base_uri": "https://localhost:8080/",
          "height": 254
        },
        "id": "dpkgS5asK0Kz",
        "outputId": "05deb7fb-f156-48ba-a306-df84be006588"
      },
      "source": [
        "from sklearn import preprocessing\n",
        "\n",
        "scaler_location = preprocessing.StandardScaler().fit(X_train)\n",
        "X_train_scaled = scaler_location.transform(X_train)\n",
        "X_test_scaled = scaler_location.transform(X_test)\n",
        "display(X_train_scaled)"
      ],
      "execution_count": null,
      "outputs": [
        {
          "data": {
            "text/plain": [
              "array([[ 4.02545663, -0.46554273, -0.23167086, ..., -0.25888673,\n",
              "         2.65715137, -0.24699789],\n",
              "       [-0.24841902, -0.46554273, -0.23167086, ..., -0.25888673,\n",
              "        -0.37634288, -0.24699789],\n",
              "       [-0.24841902, -0.46554273, -0.23167086, ...,  3.8626931 ,\n",
              "        -0.37634288, -0.24699789],\n",
              "       ...,\n",
              "       [-0.24841902, -0.46554273, -0.23167086, ..., -0.25888673,\n",
              "        -0.37634288, -0.24699789],\n",
              "       [-0.24841902, -0.46554273, -0.23167086, ..., -0.25888673,\n",
              "        -0.37634288, -0.24699789],\n",
              "       [-0.24841902, -0.46554273, -0.23167086, ..., -0.25888673,\n",
              "        -0.37634288, -0.24699789]])"
            ]
          },
          "metadata": {},
          "output_type": "display_data"
        }
      ]
    },
    {
      "cell_type": "markdown",
      "metadata": {
        "id": "7DBzHQD1HCfx"
      },
      "source": [
        "## KNN"
      ]
    },
    {
      "cell_type": "markdown",
      "metadata": {
        "id": "QC6wZY7cZM3o"
      },
      "source": [
        "### Training"
      ]
    },
    {
      "cell_type": "code",
      "metadata": {
        "colab": {
          "base_uri": "https://localhost:8080/",
          "height": 442
        },
        "id": "WNIHLKfoHzjy",
        "outputId": "132de9ba-badf-4541-e174-f6c4a7063d21"
      },
      "source": [
        "from sklearn.neighbors import KNeighborsClassifier\n",
        "\n",
        "k_range = range(1, 26)\n",
        "scores = {}\n",
        "\n",
        "for k in k_range:\n",
        "  knn = KNeighborsClassifier(n_neighbors = k)\n",
        "  knn.fit(X_train_scaled, y_train)\n",
        "  y_pred = knn.predict(X_test_scaled)\n",
        "  scores[k] = metrics.accuracy_score(y_test, y_pred)\n",
        "\n",
        "idx_max_accurancy = numpy.argmax(scores)"
      ],
      "execution_count": null,
      "outputs": [
        {
          "data": {
            "text/plain": [
              "{1: 0.295,\n",
              " 2: 0.30875,\n",
              " 3: 0.29375,\n",
              " 4: 0.3075,\n",
              " 5: 0.31,\n",
              " 6: 0.325,\n",
              " 7: 0.33375,\n",
              " 8: 0.3375,\n",
              " 9: 0.33125,\n",
              " 10: 0.33875,\n",
              " 11: 0.3375,\n",
              " 12: 0.33625,\n",
              " 13: 0.335,\n",
              " 14: 0.3325,\n",
              " 15: 0.34,\n",
              " 16: 0.33,\n",
              " 17: 0.3325,\n",
              " 18: 0.33625,\n",
              " 19: 0.3325,\n",
              " 20: 0.33625,\n",
              " 21: 0.34375,\n",
              " 22: 0.34,\n",
              " 23: 0.33875,\n",
              " 24: 0.34375,\n",
              " 25: 0.33875}"
            ]
          },
          "metadata": {},
          "output_type": "display_data"
        }
      ]
    },
    {
      "cell_type": "code",
      "metadata": {
        "id": "U7QQCPDCaCM0"
      },
      "source": [
        "knn_best = KNeighborsClassifier(n_neighbors = idx_max_accurancy)\n",
        "knn.fit(X_train_scaled, y_train)"
      ],
      "execution_count": null,
      "outputs": []
    },
    {
      "cell_type": "markdown",
      "metadata": {
        "id": "Kya3nHm2ZQyT"
      },
      "source": [
        "### Evaluation"
      ]
    },
    {
      "cell_type": "markdown",
      "metadata": {
        "id": "jhwxSswPaN7I"
      },
      "source": [
        "#### Confusion matrix"
      ]
    },
    {
      "cell_type": "code",
      "metadata": {
        "id": "HxluZUEnZXIS"
      },
      "source": [
        "cm = ConfusionMatrix(knn_best, classes=sorted(df_locations[\"class\"].unique()))\n",
        "cm.score(X_test_scaled, y_test_scaled)"
      ],
      "execution_count": null,
      "outputs": []
    },
    {
      "cell_type": "markdown",
      "metadata": {
        "id": "UQ2Pwi6IaRaL"
      },
      "source": [
        "Evaluation measures"
      ]
    },
    {
      "cell_type": "code",
      "metadata": {
        "id": "9Or5eoDtaVUc"
      },
      "source": [
        "y_pred = knn_best.predict(X_test_scaled)\n",
        "df_location_performance_measures.append([\"KNN\",\n",
        "                                         metrics.accurancy_score(y_test_scaled, y_pred),\n",
        "                                         metrics.precision_score(y_test_scaled, y_pred),\n",
        "                                         metrics.recall_score(y_test_scaled, y_pred),\n",
        "                                         metrics.specificity_score(y_test_scaled, y_pred),\n",
        "                                         metrics.f1_score(y_test_scaled, y_pred)])"
      ],
      "execution_count": null,
      "outputs": []
    },
    {
      "cell_type": "markdown",
      "metadata": {
        "id": "CgxEYCZeOuoX"
      },
      "source": [
        "## Neural Network/Multilayer Perceptron "
      ]
    },
    {
      "cell_type": "markdown",
      "metadata": {
        "id": "YL61q2rOe2xU"
      },
      "source": [
        "### Training\n",
        "\n",
        "According to Heaton there is no theoratical basis for using a network with more than two layers [Heat08]."
      ]
    },
    {
      "cell_type": "code",
      "metadata": {
        "colab": {
          "base_uri": "https://localhost:8080/"
        },
        "id": "0sVup-I3e8e3",
        "outputId": "3bac5087-d444-4011-a0be-d0c4e63743c9"
      },
      "source": [
        "from sklearn.neural_network import MLPClassifier\n",
        "\n",
        "def fit_multilayer_perceptron(n_layers, n_neurons, X_train, y_train, X_test, y_test, queue):\n",
        "  multi_layer_perceptron = MLPClassifier(solver='lbfgs', \n",
        "                                         random_state=123, \n",
        "                                         hidden_layer_sizes=numpy.repeat(n_neurons, repeats=n_layers))\n",
        "  multi_layer_perceptron.fit(X_train, y_train)\n",
        "  y_pred = multi_layer_perceptron.predict(X_test)\n",
        "  queue.put((n_layers, n_neurons, metrics.accuracy_score(y_test, y_pred)))\n",
        "\n",
        "queue = multiprocessing.Queue()\n",
        "ps = []\n",
        "\n",
        "for n_layers in range(1, 3, 1):\n",
        "  for n_neurons in range(30, 800, 40):\n",
        "    p = multiprocessing.Process(target=fit_multilayer_perceptron, \n",
        "                args=(n_layers, n_neurons, X_train, y_train, X_test, y_test, queue))\n",
        "    p.start()\n",
        "    ps.append(p)\n",
        "    print(\"Spawned process {}\".format(p.pid))\n",
        "\n",
        "arr = []\n",
        "\n",
        "while len(ps) > 0:\n",
        "  pids = []\n",
        "  for p in ps:\n",
        "    if not p.is_alive():\n",
        "      arr.append(queue.get())\n",
        "      pids.append(p.pid)\n",
        "      print(\"Removed process {}\".format(p.pid))\n",
        "  ps = list(filter(lambda p: p.pid not in pids, ps))\n",
        "  time.sleep(1)\n",
        "\n",
        "df_neural_netowrk_res = pandas.DataFrame.from_records(arr, columns=[\"n_layers\", \"n_neurons\", \"accurancy\"])"
      ],
      "execution_count": 10,
      "outputs": [
        {
          "output_type": "stream",
          "name": "stdout",
          "text": [
            "Spawned process 288\n",
            "Spawned process 289\n",
            "Spawned process 290\n",
            "Spawned process 291\n",
            "Spawned process 292\n",
            "Spawned process 293\n",
            "Spawned process 294\n",
            "Spawned process 295\n",
            "Spawned process 296\n",
            "Spawned process 297\n",
            "Spawned process 298\n",
            "Spawned process 299\n",
            "Spawned process 300\n",
            "Spawned process 301\n",
            "Spawned process 302\n",
            "Spawned process 303\n",
            "Spawned process 304\n",
            "Spawned process 305\n",
            "Spawned process 306\n",
            "Spawned process 307\n",
            "Spawned process 308\n",
            "Spawned process 309\n",
            "Spawned process 310\n",
            "Spawned process 311\n",
            "Spawned process 312\n",
            "Spawned process 313\n",
            "Spawned process 314\n",
            "Spawned process 315\n",
            "Spawned process 316\n",
            "Spawned process 318\n",
            "Spawned process 319\n",
            "Spawned process 320\n",
            "Spawned process 321\n",
            "Spawned process 322\n",
            "Spawned process 324\n",
            "Spawned process 325\n",
            "Spawned process 327\n",
            "Spawned process 328\n",
            "Spawned process 329\n",
            "Spawned process 330\n",
            "Removed process 288\n",
            "Removed process 289\n",
            "Removed process 290\n",
            "Removed process 291\n",
            "Removed process 308\n",
            "Removed process 292\n",
            "Removed process 293\n",
            "Removed process 294\n",
            "Removed process 295\n",
            "Removed process 310\n",
            "Removed process 297\n",
            "Removed process 309\n",
            "Removed process 299\n",
            "Removed process 296\n",
            "Removed process 298\n",
            "Removed process 300\n",
            "Removed process 301\n",
            "Removed process 302\n",
            "Removed process 304\n",
            "Removed process 303\n",
            "Removed process 305\n",
            "Removed process 306\n",
            "Removed process 307\n",
            "Removed process 311\n",
            "Removed process 313\n",
            "Removed process 312\n",
            "Removed process 314\n",
            "Removed process 315\n",
            "Removed process 316\n",
            "Removed process 318\n",
            "Removed process 319\n",
            "Removed process 320\n",
            "Removed process 325\n",
            "Removed process 321\n",
            "Removed process 327\n",
            "Removed process 322\n",
            "Removed process 324\n",
            "Removed process 329\n",
            "Removed process 328\n",
            "Removed process 330\n"
          ]
        }
      ]
    },
    {
      "cell_type": "code",
      "metadata": {
        "colab": {
          "base_uri": "https://localhost:8080/"
        },
        "id": "atLJRb4LDAG0",
        "outputId": "f3c2b0d9-6082-428e-dd79-40ce0dc4e575"
      },
      "source": [
        "with pandas.option_context('display.max_rows', None, 'display.max_columns', None):\n",
        "    print(df_neural_netowrk_res)"
      ],
      "execution_count": 11,
      "outputs": [
        {
          "output_type": "stream",
          "name": "stdout",
          "text": [
            "    n_layers  n_neurons  accurancy\n",
            "0          1         30    0.68000\n",
            "1          1         70    0.70375\n",
            "2          1        110    0.73750\n",
            "3          1        150    0.72375\n",
            "4          2         30    0.63500\n",
            "5          1        190    0.74000\n",
            "6          1        230    0.76000\n",
            "7          1        270    0.71625\n",
            "8          1        310    0.75250\n",
            "9          2        110    0.71000\n",
            "10         1        390    0.73000\n",
            "11         2         70    0.71125\n",
            "12         1        470    0.73875\n",
            "13         1        350    0.72875\n",
            "14         1        430    0.77125\n",
            "15         1        510    0.73000\n",
            "16         1        550    0.73875\n",
            "17         1        670    0.72750\n",
            "18         1        590    0.75250\n",
            "19         1        630    0.76000\n",
            "20         1        710    0.74625\n",
            "21         1        750    0.76500\n",
            "22         1        790    0.74625\n",
            "23         2        150    0.72750\n",
            "24         2        230    0.72125\n",
            "25         2        190    0.71250\n",
            "26         2        270    0.73250\n",
            "27         2        310    0.74250\n",
            "28         2        350    0.74875\n",
            "29         2        390    0.73625\n",
            "30         2        430    0.75625\n",
            "31         2        470    0.74750\n",
            "32         2        630    0.75500\n",
            "33         2        510    0.76250\n",
            "34         2        670    0.74250\n",
            "35         2        550    0.76125\n",
            "36         2        590    0.74500\n",
            "37         2        750    0.74250\n",
            "38         2        710    0.74750\n",
            "39         2        790    0.72625\n"
          ]
        }
      ]
    },
    {
      "cell_type": "code",
      "metadata": {
        "colab": {
          "base_uri": "https://localhost:8080/",
          "height": 301
        },
        "id": "9P-JoOT-ArLm",
        "outputId": "4e37b03f-499e-4131-ddf0-efa616f2823d"
      },
      "source": [
        "df_nn_1 = df_neural_netowrk_res[df_neural_netowrk_res[\"n_layers\"] == 1].sort_values(\"n_neurons\")\n",
        "df_nn_2 = df_neural_netowrk_res[df_neural_netowrk_res[\"n_layers\"] == 2].sort_values(\"n_neurons\")\n",
        "print(df_nn_1.shape[0])\n",
        "print(df_nn_2.shape[0])\n",
        "plt.plot(df_nn_1[\"n_neurons\"], df_nn_1[\"accurancy\"], label=\"1 hidden layer\")\n",
        "plt.plot(df_nn_2[\"n_neurons\"], df_nn_2[\"accurancy\"], label=\"2 hidden layers\")\n",
        "plt.legend()\n",
        "plt.show()"
      ],
      "execution_count": 12,
      "outputs": [
        {
          "output_type": "stream",
          "name": "stdout",
          "text": [
            "20\n",
            "20\n"
          ]
        },
        {
          "output_type": "display_data",
          "data": {
            "image/png": "[encoded data removed]",
            "text/plain": [
              "<Figure size 432x288 with 1 Axes>"
            ]
          },
          "metadata": {
            "needs_background": "light"
          }
        }
      ]
    },
    {
      "cell_type": "markdown",
      "metadata": {
        "id": "PioV0rbXgZ0x"
      },
      "source": [
        "### Evaluation"
      ]
    },
    {
      "cell_type": "markdown",
      "metadata": {
        "id": "6kITt0q0NL3-"
      },
      "source": [
        "#### Confusion Matrix"
      ]
    },
    {
      "cell_type": "code",
      "metadata": {
        "colab": {
          "base_uri": "https://localhost:8080/",
          "height": 368
        },
        "id": "wClEzo1Igg0X",
        "outputId": "8c1b6058-875f-4faf-f600-15eac9b305fc"
      },
      "source": [
        "cm = ConfusionMatrix(multi_layer_perceptron, classes=sorted(df_locations[\"class\"].unique()))\n",
        "cm.score(X_test, y_test)"
      ],
      "execution_count": null,
      "outputs": [
        {
          "data": {
            "text/plain": [
              "0.75375"
            ]
          },
          "execution_count": 42,
          "metadata": {},
          "output_type": "execute_result"
        },
        {
          "data": {
            "image/png": "[encoded data removed]",
            "text/plain": [
              "<Figure size 576x396 with 1 Axes>"
            ]
          },
          "metadata": {},
          "output_type": "display_data"
        }
      ]
    },
    {
      "cell_type": "markdown",
      "metadata": {
        "id": "LQWfuhpdNQpD"
      },
      "source": [
        "#### Evaluation measures"
      ]
    },
    {
      "cell_type": "code",
      "metadata": {
        "id": "SbjiqR_WRY7C"
      },
      "source": [
        "df_location_performance_measures.append([\"Neural Network\",\n",
        "                                         metrics.accurancy_score(y_test, y_pred),\n",
        "                                         metrics.precision_score(y_test, y_pred),\n",
        "                                         metrics.recall_score(y_test, y_pred),\n",
        "                                         metrics.specificity_score(y_test, y_pred),\n",
        "                                         metrics.f1_score(y_test, y_pred)])"
      ],
      "execution_count": null,
      "outputs": []
    },
    {
      "cell_type": "markdown",
      "metadata": {
        "id": "3Sy1lQnINSQ-"
      },
      "source": [
        "## Decision Tree"
      ]
    },
    {
      "cell_type": "markdown",
      "metadata": {
        "id": "19M2y53zS0X1"
      },
      "source": [
        "### Training"
      ]
    },
    {
      "cell_type": "code",
      "metadata": {
        "id": "y68KNMxoNZ6J"
      },
      "source": [
        "from sklearn import tree\n",
        "\n",
        "decision_tree = tree.DecisionTreeClassifier()\n",
        "decision_tree.fit(X_train, y_train)\n",
        "y_pred = decision_tree.predict(X_test)\n",
        "print(\"The prediciton accurancy for the decision tree is {}.\".format(metrics.accuracy_score(y_test, y_pred)))"
      ],
      "execution_count": null,
      "outputs": []
    },
    {
      "cell_type": "markdown",
      "metadata": {
        "id": "lR-0dB9USvaP"
      },
      "source": [
        "### Evaluation\n"
      ]
    },
    {
      "cell_type": "markdown",
      "metadata": {
        "id": "PC93pIO0S3Gh"
      },
      "source": [
        "#### Confusion Matrix"
      ]
    },
    {
      "cell_type": "code",
      "metadata": {
        "id": "kSY2d-nTY_Iu"
      },
      "source": [
        "cm = ConfusionMatrix(decision_tree, classes=sorted(df_locations[\"class\"].unique()))\n",
        "cm.score(X_test, y_test)"
      ],
      "execution_count": null,
      "outputs": []
    },
    {
      "cell_type": "markdown",
      "metadata": {
        "id": "AgT_et9lOTPz"
      },
      "source": [
        "#### Evaluation measures"
      ]
    },
    {
      "cell_type": "code",
      "metadata": {
        "id": "BbKn7b_ZSehF"
      },
      "source": [
        "df_location_performance_measures.append([\"Decision Tree\",\n",
        "                                         metrics.accurancy_score(y_test, y_pred),\n",
        "                                         metrics.precision_score(y_test, y_pred),\n",
        "                                         metrics.recall_score(y_test, y_pred),\n",
        "                                         metrics.specificity_score(y_test, y_pred),\n",
        "                                         metrics.f1_score(y_test, y_pred)])"
      ],
      "execution_count": null,
      "outputs": []
    },
    {
      "cell_type": "markdown",
      "metadata": {
        "id": "aPhVUfalSiJ2"
      },
      "source": [
        "## Comparison"
      ]
    },
    {
      "cell_type": "code",
      "metadata": {
        "id": "tws-Apk4SqM4"
      },
      "source": [
        "display(df_location_performance_measures)"
      ],
      "execution_count": null,
      "outputs": []
    },
    {
      "cell_type": "markdown",
      "metadata": {
        "id": "Lnb45bpadISL"
      },
      "source": [
        "# Data set 2: Congressional Voting\n",
        "\n",
        "Second data set from the kaggle competition."
      ]
    },
    {
      "cell_type": "code",
      "metadata": {
        "colab": {
          "base_uri": "https://localhost:8080/"
        },
        "id": "YVS5NIbgdTxQ",
        "outputId": "4e7ea4a3-60f7-433b-a219-4c2206c253f6"
      },
      "source": [
        "df_congress = pandas.read_csv(\"/content/gdrive/MyDrive/data/congressional.csv\")\n",
        "with pandas.option_context('display.max_columns', None):\n",
        "  display(df_congress.head())"
      ],
      "execution_count": null,
      "outputs": [
        {
          "name": "stdout",
          "output_type": "stream",
          "text": [
            "    ID       class  ... duty-free-exports export-administration-act-south-africa\n",
            "0   67  republican  ...                 n                                      y\n",
            "1  338    democrat  ...                 y                                      y\n",
            "2   35    democrat  ...                 y                                      y\n",
            "3  122  republican  ...                 n                                      y\n",
            "4  420    democrat  ...                 n                                      y\n",
            "\n",
            "[5 rows x 18 columns]\n"
          ]
        }
      ]
    },
    {
      "cell_type": "markdown",
      "metadata": {
        "id": "-UMwr4pbE8t_"
      },
      "source": [
        ""
      ]
    },
    {
      "cell_type": "markdown",
      "metadata": {
        "id": "ur3H2w01445y"
      },
      "source": [
        "# Data set 3: COVID-19\n",
        "\n",
        "The data set from exercise 0."
      ]
    },
    {
      "cell_type": "code",
      "metadata": {
        "colab": {
          "base_uri": "https://localhost:8080/"
        },
        "id": "5nsa40MZ3CEV",
        "outputId": "49b640b0-6d95-4e52-bdd9-540edd938459"
      },
      "source": [
        "df_covid = pandas.read_csv(\"/content/gdrive/MyDrive/data/covid.csv\")\n",
        "print(df_covid.head())"
      ],
      "execution_count": null,
      "outputs": [
        {
          "name": "stdout",
          "output_type": "stream",
          "text": [
            "       id  sex  patient_type  ... contact_other_covid covid_res icu\n",
            "0  16169f    2             1  ...                   2         1  97\n",
            "1  1009bf    2             1  ...                  99         1  97\n",
            "2  167386    1             2  ...                  99         1   2\n",
            "3  0b5948    2             2  ...                  99         1   2\n",
            "4  0d01b5    1             2  ...                  99         1   2\n",
            "\n",
            "[5 rows x 23 columns]\n"
          ]
        }
      ]
    },
    {
      "cell_type": "markdown",
      "metadata": {
        "id": "8VfgPW7pd0MF"
      },
      "source": [
        "# Data set 4: Airline customer satisfaction\n",
        "\n",
        "A completely new data set for classifocation."
      ]
    },
    {
      "cell_type": "code",
      "metadata": {
        "colab": {
          "base_uri": "https://localhost:8080/"
        },
        "id": "dkoXciYieAxQ",
        "outputId": "4a1f62b6-9cc4-45e7-f33b-e255b5643008"
      },
      "source": [
        "df_airline = pandas.read_csv(\"/content/gdrive/MyDrive/data/airline.csv\")\n",
        "print(df_airline.head())"
      ],
      "execution_count": null,
      "outputs": [
        {
          "name": "stdout",
          "output_type": "stream",
          "text": [
            "   Unnamed: 0      id  ... Arrival Delay in Minutes             satisfaction\n",
            "0           0   70172  ...                     18.0  neutral or dissatisfied\n",
            "1           1    5047  ...                      6.0  neutral or dissatisfied\n",
            "2           2  110028  ...                      0.0                satisfied\n",
            "3           3   24026  ...                      9.0  neutral or dissatisfied\n",
            "4           4  119299  ...                      0.0                satisfied\n",
            "\n",
            "[5 rows x 25 columns]\n"
          ]
        }
      ]
    },
    {
      "cell_type": "markdown",
      "metadata": {
        "id": "XLeClqalCSF4"
      },
      "source": [
        "# Sources\n",
        "\n",
        "[Heat08] Jeff Heaton. 2008. <i>Introduction to Neural Networks for Java, 2nd Edition</i> (2nd. ed.). Heaton Research, Inc."
      ]
    }
  ]
}